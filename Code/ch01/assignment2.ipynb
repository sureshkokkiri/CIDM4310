{
 "cells": [
  {
   "cell_type": "markdown",
   "id": "0178df0a-2c7a-4e42-b592-6e30039a15c3",
   "metadata": {},
   "source": [
    "# Solutions.\n",
    "1. Is all data normally distributed? \n",
    "> No. If the data is normally distributed there are a lot more statistical tests available to analyze the data set.\n",
    "> Hence, we always need to check if the data is normally distributed and if it is, then we can use the more powerful tests to analyze with our dataset.\n",
    "2. When would it make more sense to use the median instead of the mean for the measure of center? \n",
    "> When  data has outliers, it may make more sense to use the median over the mean."
   ]
  },
  {
   "cell_type": "markdown",
   "id": "a666c9ef-c28a-49bb-8b26-779b641cfc09",
   "metadata": {},
   "source": [
    "#exercise4"
   ]
  },
  {
   "cell_type": "code",
   "execution_count": 15,
   "id": "29bcf364-ffd2-456c-b8dd-b9003d6fb0cf",
   "metadata": {},
   "outputs": [],
   "source": [
    "import random\n",
    "\n",
    "random.seed(0)\n",
    "salaries = [round(random.random()*1000000, -3) for _ in range(100)]"
   ]
  },
  {
   "cell_type": "code",
   "execution_count": 16,
   "id": "211a8787-8e3e-42ab-8fc9-f070b639cbe4",
   "metadata": {},
   "outputs": [
    {
     "name": "stdout",
     "output_type": "stream",
     "text": [
      "[844000.0, 758000.0, 421000.0, 259000.0, 511000.0, 405000.0, 784000.0, 303000.0, 477000.0, 583000.0, 908000.0, 505000.0, 282000.0, 756000.0, 618000.0, 251000.0, 910000.0, 983000.0, 810000.0, 902000.0, 310000.0, 730000.0, 899000.0, 684000.0, 472000.0, 101000.0, 434000.0, 611000.0, 913000.0, 967000.0, 477000.0, 865000.0, 260000.0, 805000.0, 549000.0, 14000.0, 720000.0, 399000.0, 825000.0, 668000.0, 1000.0, 494000.0, 868000.0, 244000.0, 325000.0, 870000.0, 191000.0, 568000.0, 239000.0, 968000.0, 803000.0, 448000.0, 80000.0, 320000.0, 508000.0, 933000.0, 109000.0, 551000.0, 707000.0, 547000.0, 814000.0, 540000.0, 964000.0, 603000.0, 588000.0, 445000.0, 596000.0, 385000.0, 576000.0, 290000.0, 189000.0, 187000.0, 613000.0, 657000.0, 477000.0, 90000.0, 758000.0, 877000.0, 923000.0, 842000.0, 898000.0, 923000.0, 541000.0, 391000.0, 705000.0, 276000.0, 812000.0, 849000.0, 895000.0, 590000.0, 950000.0, 580000.0, 451000.0, 660000.0, 996000.0, 917000.0, 793000.0, 82000.0, 613000.0, 486000.0]\n"
     ]
    }
   ],
   "source": [
    "print (salaries)"
   ]
  },
  {
   "cell_type": "markdown",
   "id": "b6fe5f87-e098-4ae4-9f60-e52484be7c89",
   "metadata": {},
   "source": [
    "#exercise5"
   ]
  },
  {
   "cell_type": "code",
   "execution_count": 20,
   "id": "87f0c6ec-ef9d-457d-b0c2-bed9fd833d3b",
   "metadata": {},
   "outputs": [
    {
     "name": "stdout",
     "output_type": "stream",
     "text": [
      "585690.0\n",
      "585690.0\n"
     ]
    },
    {
     "data": {
      "text/plain": [
       "True"
      ]
     },
     "execution_count": 20,
     "metadata": {},
     "output_type": "execute_result"
    }
   ],
   "source": [
    "from statistics import mean\n",
    "\n",
    "a1= sum(salaries) / len(salaries) \n",
    "b1= mean(salaries)\n",
    "print (a1)\n",
    "print (b1)\n",
    "a1==b1"
   ]
  },
  {
   "cell_type": "code",
   "execution_count": 21,
   "id": "0f4873e0-2be9-45af-a4a5-9d2eb3ce54fc",
   "metadata": {},
   "outputs": [],
   "source": [
    "import math\n",
    "\n",
    "def find_median(x):\n",
    "    x.sort()\n",
    "    midpoint = (len(x) + 1) / 2 - 1 # subtract 1 bc index starts at 0\n",
    "    if len(x) % 2:\n",
    "        # x has odd number of values\n",
    "        return x[int(midpoint)]\n",
    "    else:\n",
    "        return (x[math.floor(midpoint)] + x[math.ceil(midpoint)]) / 2"
   ]
  },
  {
   "cell_type": "code",
   "execution_count": 22,
   "id": "900aa24b-32bf-4058-8ca3-6fdca06128a5",
   "metadata": {},
   "outputs": [
    {
     "name": "stdout",
     "output_type": "stream",
     "text": [
      "589000.0\n"
     ]
    }
   ],
   "source": [
    "print (find_median(salaries))"
   ]
  },
  {
   "cell_type": "code",
   "execution_count": 24,
   "id": "8fa4ddbc-84c9-4788-81af-4c375faabd7f",
   "metadata": {},
   "outputs": [
    {
     "name": "stdout",
     "output_type": "stream",
     "text": [
      "589000.0\n"
     ]
    }
   ],
   "source": [
    "print (median(salaries))"
   ]
  },
  {
   "cell_type": "code",
   "execution_count": 23,
   "id": "9aafdca9-40bf-498a-8e91-0c30f4573f41",
   "metadata": {},
   "outputs": [
    {
     "data": {
      "text/plain": [
       "True"
      ]
     },
     "execution_count": 23,
     "metadata": {},
     "output_type": "execute_result"
    }
   ],
   "source": [
    "from statistics import median\n",
    "\n",
    "find_median(salaries) == median(salaries)"
   ]
  },
  {
   "cell_type": "code",
   "execution_count": 25,
   "id": "8994aae2-f4ea-4c57-a835-4be99930be7a",
   "metadata": {},
   "outputs": [
    {
     "data": {
      "text/plain": [
       "True"
      ]
     },
     "execution_count": 25,
     "metadata": {},
     "output_type": "execute_result"
    }
   ],
   "source": [
    "from statistics import mode\n",
    "from collections import Counter\n",
    "\n",
    "Counter(salaries).most_common(1)[0][0] == mode(salaries)"
   ]
  },
  {
   "cell_type": "code",
   "execution_count": 26,
   "id": "16691588-c7b0-48f2-8639-b0f29babea4a",
   "metadata": {},
   "outputs": [
    {
     "data": {
      "text/plain": [
       "True"
      ]
     },
     "execution_count": 26,
     "metadata": {},
     "output_type": "execute_result"
    }
   ],
   "source": [
    "from statistics import variance\n",
    "\n",
    "sum([(x - sum(salaries) / len(salaries))**2 for x in salaries]) / (len(salaries) - 1) == variance(salaries)"
   ]
  },
  {
   "cell_type": "code",
   "execution_count": 27,
   "id": "746186c9-383c-4fa5-ac8f-81bd61f9cfd2",
   "metadata": {},
   "outputs": [
    {
     "data": {
      "text/plain": [
       "True"
      ]
     },
     "execution_count": 27,
     "metadata": {},
     "output_type": "execute_result"
    }
   ],
   "source": [
    "from statistics import stdev\n",
    "import math\n",
    "\n",
    "math.sqrt(sum([(x - sum(salaries) / len(salaries))**2 for x in salaries]) / (len(salaries) - 1)) == stdev(salaries)"
   ]
  },
  {
   "cell_type": "markdown",
   "id": "ec23d6f4-11c3-467e-97c2-e79755aa6da8",
   "metadata": {},
   "source": [
    "#exercise6"
   ]
  },
  {
   "cell_type": "code",
   "execution_count": 28,
   "id": "8f532bb4-7883-49aa-8155-75895984a97d",
   "metadata": {},
   "outputs": [
    {
     "data": {
      "text/plain": [
       "995000.0"
      ]
     },
     "execution_count": 28,
     "metadata": {},
     "output_type": "execute_result"
    }
   ],
   "source": [
    "max(salaries) - min(salaries)"
   ]
  },
  {
   "cell_type": "code",
   "execution_count": 29,
   "id": "a02b3b04-4a21-488a-9e36-5324155395d0",
   "metadata": {},
   "outputs": [
    {
     "data": {
      "text/plain": [
       "0.45386998894439035"
      ]
     },
     "execution_count": 29,
     "metadata": {},
     "output_type": "execute_result"
    }
   ],
   "source": [
    "from statistics import mean, stdev\n",
    "\n",
    "stdev(salaries) / mean(salaries)"
   ]
  },
  {
   "cell_type": "code",
   "execution_count": 32,
   "id": "d6ab9626-46b9-4987-815d-9360290daa22",
   "metadata": {},
   "outputs": [],
   "source": [
    "import math\n",
    "\n",
    "def quantile(x, pct):\n",
    "    x.sort()\n",
    "    index = (len(x) + 1) * pct - 1\n",
    "    if len(x) % 2:\n",
    "        # odd, so grab the value at index\n",
    "        return x[int(index)]\n",
    "    else:\n",
    "        return (x[math.floor(index)] + x[math.ceil(index)]) / 2"
   ]
  },
  {
   "cell_type": "code",
   "execution_count": 33,
   "id": "207a4465-e029-40c7-9ab3-444c7db1a034",
   "metadata": {},
   "outputs": [
    {
     "data": {
      "text/plain": [
       "True"
      ]
     },
     "execution_count": 33,
     "metadata": {},
     "output_type": "execute_result"
    }
   ],
   "source": [
    "sum([x < quantile(salaries, 0.25) for x in salaries]) / len(salaries) == 0.25"
   ]
  },
  {
   "cell_type": "code",
   "execution_count": 34,
   "id": "7059cfc5-1813-478a-b992-0c1faa58ad77",
   "metadata": {},
   "outputs": [
    {
     "data": {
      "text/plain": [
       "True"
      ]
     },
     "execution_count": 34,
     "metadata": {},
     "output_type": "execute_result"
    }
   ],
   "source": [
    "sum([x < quantile(salaries, 0.75) for x in salaries]) / len(salaries) == 0.75"
   ]
  },
  {
   "cell_type": "code",
   "execution_count": 35,
   "id": "4c7c1f74-8237-441d-8e9b-669879548c76",
   "metadata": {},
   "outputs": [
    {
     "data": {
      "text/plain": [
       "417500.0"
      ]
     },
     "execution_count": 35,
     "metadata": {},
     "output_type": "execute_result"
    }
   ],
   "source": [
    "q3, q1 = quantile(salaries, 0.75), quantile(salaries, 0.25)\n",
    "iqr = q3 - q1\n",
    "iqr"
   ]
  },
  {
   "cell_type": "code",
   "execution_count": 36,
   "id": "3398e622-4334-4cf7-8138-6febb828e8d4",
   "metadata": {},
   "outputs": [
    {
     "data": {
      "text/plain": [
       "0.3417928776094965"
      ]
     },
     "execution_count": 36,
     "metadata": {},
     "output_type": "execute_result"
    }
   ],
   "source": [
    "iqr / (q1 + q3)"
   ]
  },
  {
   "cell_type": "markdown",
   "id": "516637ea-1a85-4091-b33f-aeb370d0172d",
   "metadata": {},
   "source": [
    "#exercise7"
   ]
  },
  {
   "cell_type": "code",
   "execution_count": 37,
   "id": "5c408464-e9a6-4195-83c7-6434a51ce629",
   "metadata": {},
   "outputs": [
    {
     "data": {
      "text/plain": [
       "[0.0,\n",
       " 0.01306532663316583,\n",
       " 0.07939698492462312,\n",
       " 0.0814070351758794,\n",
       " 0.08944723618090453]"
      ]
     },
     "execution_count": 37,
     "metadata": {},
     "output_type": "execute_result"
    }
   ],
   "source": [
    "min_salary, max_salary = min(salaries), max(salaries)\n",
    "salary_range = max_salary - min_salary\n",
    "\n",
    "min_max_scaled = [(x - min_salary) / salary_range for x in salaries]\n",
    "min_max_scaled[:5]"
   ]
  },
  {
   "cell_type": "code",
   "execution_count": 38,
   "id": "6b3800e7-e0d2-4f41-9ed9-b3fda70cf759",
   "metadata": {},
   "outputs": [
    {
     "data": {
      "text/plain": [
       "[-2.199512275430514,\n",
       " -2.150608309943509,\n",
       " -1.9023266390094862,\n",
       " -1.8948029520114855,\n",
       " -1.8647082040194827]"
      ]
     },
     "execution_count": 38,
     "metadata": {},
     "output_type": "execute_result"
    }
   ],
   "source": [
    "from statistics import mean, stdev\n",
    "\n",
    "mean_salary, std_salary = mean(salaries), stdev(salaries)\n",
    "\n",
    "standardized = [(x - mean_salary) / std_salary for x in salaries]\n",
    "standardized[:5]"
   ]
  },
  {
   "cell_type": "markdown",
   "id": "60a0b561-8788-423f-b130-5f0da78de432",
   "metadata": {},
   "source": [
    "#exercise8"
   ]
  },
  {
   "cell_type": "code",
   "execution_count": 39,
   "id": "453ca5c3-f990-4f0f-b5de-8b315c8099ae",
   "metadata": {},
   "outputs": [
    {
     "ename": "ModuleNotFoundError",
     "evalue": "No module named 'numpy'",
     "output_type": "error",
     "traceback": [
      "\u001b[1;31m---------------------------------------------------------------------------\u001b[0m",
      "\u001b[1;31mModuleNotFoundError\u001b[0m                       Traceback (most recent call last)",
      "\u001b[1;32m<ipython-input-39-fa681a860afb>\u001b[0m in \u001b[0;36m<module>\u001b[1;34m\u001b[0m\n\u001b[1;32m----> 1\u001b[1;33m \u001b[1;32mimport\u001b[0m \u001b[0mnumpy\u001b[0m \u001b[1;32mas\u001b[0m \u001b[0mnp\u001b[0m\u001b[1;33m\u001b[0m\u001b[1;33m\u001b[0m\u001b[0m\n\u001b[0m\u001b[0;32m      2\u001b[0m \u001b[0mnp\u001b[0m\u001b[1;33m.\u001b[0m\u001b[0mcov\u001b[0m\u001b[1;33m(\u001b[0m\u001b[0mmin_max_scaled\u001b[0m\u001b[1;33m,\u001b[0m \u001b[0mstandardized\u001b[0m\u001b[1;33m)\u001b[0m\u001b[1;33m\u001b[0m\u001b[1;33m\u001b[0m\u001b[0m\n",
      "\u001b[1;31mModuleNotFoundError\u001b[0m: No module named 'numpy'"
     ]
    }
   ],
   "source": [
    "import numpy as np\n",
    "np.cov(min_max_scaled, standardized)"
   ]
  },
  {
   "cell_type": "code",
   "execution_count": 40,
   "id": "eedad555-06ce-4bba-b2e3-142499bec272",
   "metadata": {},
   "outputs": [
    {
     "data": {
      "text/plain": [
       "0.26449129918250414"
      ]
     },
     "execution_count": 40,
     "metadata": {},
     "output_type": "execute_result"
    }
   ],
   "source": [
    "from statistics import mean\n",
    "\n",
    "running_total = [\n",
    "    (x - mean(min_max_scaled)) * (y - mean(standardized))\n",
    "    for x, y in zip(min_max_scaled, standardized)\n",
    "]\n",
    "\n",
    "cov = mean(running_total)\n",
    "cov"
   ]
  },
  {
   "cell_type": "code",
   "execution_count": 41,
   "id": "a3cfddfe-48c5-4f66-9aae-7ca70749c5c2",
   "metadata": {},
   "outputs": [
    {
     "data": {
      "text/plain": [
       "0.9900000000000001"
      ]
     },
     "execution_count": 41,
     "metadata": {},
     "output_type": "execute_result"
    }
   ],
   "source": [
    "from statistics import stdev\n",
    "cov / (stdev(min_max_scaled) * stdev(standardized))"
   ]
  }
 ],
 "metadata": {
  "kernelspec": {
   "display_name": "Python 3",
   "language": "python",
   "name": "python3"
  },
  "language_info": {
   "codemirror_mode": {
    "name": "ipython",
    "version": 3
   },
   "file_extension": ".py",
   "mimetype": "text/x-python",
   "name": "python",
   "nbconvert_exporter": "python",
   "pygments_lexer": "ipython3",
   "version": "3.9.5"
  }
 },
 "nbformat": 4,
 "nbformat_minor": 5
}
